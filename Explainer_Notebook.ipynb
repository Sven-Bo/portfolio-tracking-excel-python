{
 "cells": [
  {
   "cell_type": "markdown",
   "metadata": {},
   "source": [
    "# 📈 Pull Data From Yahoo Finance"
   ]
  },
  {
   "cell_type": "markdown",
   "metadata": {
    "heading_collapsed": true
   },
   "source": [
    "# Imports"
   ]
  },
  {
   "cell_type": "code",
   "execution_count": 2,
   "metadata": {
    "hidden": true
   },
   "outputs": [],
   "source": [
    "!pip install pip install yahoofinancials --quiet\n",
    "!pip install pandas --quiet"
   ]
  },
  {
   "cell_type": "code",
   "execution_count": 3,
   "metadata": {
    "hidden": true
   },
   "outputs": [],
   "source": [
    "from yahoofinancials import YahooFinancials\n",
    "import pandas as pd"
   ]
  },
  {
   "cell_type": "markdown",
   "metadata": {
    "heading_collapsed": true
   },
   "source": [
    "# Basic Example"
   ]
  },
  {
   "cell_type": "markdown",
   "metadata": {
    "hidden": true
   },
   "source": [
    "**`YahooFinancials`** is a powerful financial data module used for pulling both fundamental and technical data from Yahoo Finance.\n",
    ">Documentation: https://github.com/JECSand/yahoofinancials\n",
    "\n",
    "**Examples of Module Methods:**<br>\n",
    "get_daily_low()<br>\n",
    "get_daily_high()<br>\n",
    "get_currency()<br>\n",
    "get_yearly_high()<br>\n",
    "get_yearly_low()<br>\n",
    "get_dividend_yield()<br>\n",
    "...<br>"
   ]
  },
  {
   "cell_type": "code",
   "execution_count": 4,
   "metadata": {
    "hidden": true
   },
   "outputs": [],
   "source": [
    "ticker =  'TSLA'"
   ]
  },
  {
   "cell_type": "code",
   "execution_count": 5,
   "metadata": {
    "hidden": true
   },
   "outputs": [
    {
     "data": {
      "text/plain": [
       "641.87"
      ]
     },
     "execution_count": 5,
     "metadata": {},
     "output_type": "execute_result"
    }
   ],
   "source": [
    "data = YahooFinancials(ticker)\n",
    "data.get_open_price()"
   ]
  },
  {
   "cell_type": "code",
   "execution_count": 6,
   "metadata": {
    "hidden": true
   },
   "outputs": [
    {
     "data": {
      "text/plain": [
       "{'TSLA': {'previousClose': 640.39,\n",
       "  'regularMarketOpen': 641.87,\n",
       "  'twoHundredDayAverage': 602.2559,\n",
       "  'trailingAnnualDividendYield': None,\n",
       "  'payoutRatio': 0,\n",
       "  'volume24Hr': None,\n",
       "  'regularMarketDayHigh': 643.82,\n",
       "  'navPrice': None,\n",
       "  'averageDailyVolume10Day': 37012214,\n",
       "  'totalAssets': None,\n",
       "  'regularMarketPreviousClose': 640.39,\n",
       "  'fiftyDayAverage': 713.1397,\n",
       "  'trailingAnnualDividendRate': None,\n",
       "  'open': 641.87,\n",
       "  'toCurrency': None,\n",
       "  'averageVolume10days': 37012214,\n",
       "  'expireDate': '-',\n",
       "  'yield': None,\n",
       "  'algorithm': None,\n",
       "  'dividendRate': None,\n",
       "  'exDividendDate': '-',\n",
       "  'beta': 2.06013,\n",
       "  'circulatingSupply': None,\n",
       "  'startDate': '-',\n",
       "  'regularMarketDayLow': 599.9,\n",
       "  'priceHint': 2,\n",
       "  'currency': 'USD',\n",
       "  'trailingPE': 966.73444,\n",
       "  'regularMarketVolume': 33332909,\n",
       "  'lastMarket': None,\n",
       "  'maxSupply': None,\n",
       "  'openInterest': None,\n",
       "  'marketCap': 593871306752,\n",
       "  'volumeAllCurrencies': None,\n",
       "  'strikePrice': None,\n",
       "  'averageVolume': 35782108,\n",
       "  'priceToSalesTrailing12Months': 18.831535,\n",
       "  'dayLow': 599.9,\n",
       "  'ask': 621.5,\n",
       "  'ytdReturn': None,\n",
       "  'askSize': 900,\n",
       "  'volume': 33332909,\n",
       "  'fiftyTwoWeekHigh': 900.4,\n",
       "  'forwardPE': 112.08515,\n",
       "  'maxAge': 1,\n",
       "  'fromCurrency': None,\n",
       "  'fiveYearAvgDividendYield': None,\n",
       "  'fiftyTwoWeekLow': 89.28,\n",
       "  'bid': 621,\n",
       "  'tradeable': False,\n",
       "  'dividendYield': None,\n",
       "  'bidSize': 3000,\n",
       "  'dayHigh': 643.82}}"
      ]
     },
     "execution_count": 6,
     "metadata": {},
     "output_type": "execute_result"
    }
   ],
   "source": [
    "data.get_summary_data()"
   ]
  },
  {
   "cell_type": "markdown",
   "metadata": {
    "heading_collapsed": true
   },
   "source": [
    "# Create Your Own DataFrame"
   ]
  },
  {
   "cell_type": "code",
   "execution_count": 7,
   "metadata": {
    "hidden": true
   },
   "outputs": [
    {
     "data": {
      "text/html": [
       "<div>\n",
       "<style scoped>\n",
       "    .dataframe tbody tr th:only-of-type {\n",
       "        vertical-align: middle;\n",
       "    }\n",
       "\n",
       "    .dataframe tbody tr th {\n",
       "        vertical-align: top;\n",
       "    }\n",
       "\n",
       "    .dataframe thead th {\n",
       "        text-align: right;\n",
       "    }\n",
       "</style>\n",
       "<table border=\"1\" class=\"dataframe\">\n",
       "  <thead>\n",
       "    <tr style=\"text-align: right;\">\n",
       "      <th></th>\n",
       "    </tr>\n",
       "  </thead>\n",
       "  <tbody>\n",
       "  </tbody>\n",
       "</table>\n",
       "</div>"
      ],
      "text/plain": [
       "Empty DataFrame\n",
       "Columns: []\n",
       "Index: []"
      ]
     },
     "execution_count": 7,
     "metadata": {},
     "output_type": "execute_result"
    }
   ],
   "source": [
    "# Create an empty DataFrame\n",
    "df = pd.DataFrame()\n",
    "df"
   ]
  },
  {
   "cell_type": "code",
   "execution_count": 8,
   "metadata": {
    "hidden": true
   },
   "outputs": [],
   "source": [
    "tickers = ['TSLA', 'GOOG', 'MSFT']\n",
    "for ticker in tickers:\n",
    "    # Pull data from YahooFinance\n",
    "    data = YahooFinancials(ticker)\n",
    "    open_price = data.get_open_price()\n",
    "    currency = data.get_currency()\n",
    "    yearly_high = data.get_yearly_high()\n",
    "    \n",
    "    # Create Dictonary \n",
    "    new_row = {\n",
    "        \"ticker\": ticker,\n",
    "        \"open_price\": open_price,\n",
    "        \"currency\": currency,\n",
    "        \"yearly_high\": yearly_high,\n",
    "    }\n",
    "    \n",
    "    # Append data (new row) to DataFrame\n",
    "    df = df.append(new_row, ignore_index=True)\n"
   ]
  },
  {
   "cell_type": "code",
   "execution_count": 9,
   "metadata": {
    "hidden": true
   },
   "outputs": [
    {
     "data": {
      "text/html": [
       "<div>\n",
       "<style scoped>\n",
       "    .dataframe tbody tr th:only-of-type {\n",
       "        vertical-align: middle;\n",
       "    }\n",
       "\n",
       "    .dataframe tbody tr th {\n",
       "        vertical-align: top;\n",
       "    }\n",
       "\n",
       "    .dataframe thead th {\n",
       "        text-align: right;\n",
       "    }\n",
       "</style>\n",
       "<table border=\"1\" class=\"dataframe\">\n",
       "  <thead>\n",
       "    <tr style=\"text-align: right;\">\n",
       "      <th></th>\n",
       "      <th>currency</th>\n",
       "      <th>open_price</th>\n",
       "      <th>ticker</th>\n",
       "      <th>yearly_high</th>\n",
       "    </tr>\n",
       "  </thead>\n",
       "  <tbody>\n",
       "    <tr>\n",
       "      <th>0</th>\n",
       "      <td>USD</td>\n",
       "      <td>641.87</td>\n",
       "      <td>TSLA</td>\n",
       "      <td>900.40</td>\n",
       "    </tr>\n",
       "    <tr>\n",
       "      <th>1</th>\n",
       "      <td>USD</td>\n",
       "      <td>2038.86</td>\n",
       "      <td>GOOG</td>\n",
       "      <td>2152.68</td>\n",
       "    </tr>\n",
       "    <tr>\n",
       "      <th>2</th>\n",
       "      <td>USD</td>\n",
       "      <td>231.55</td>\n",
       "      <td>MSFT</td>\n",
       "      <td>246.13</td>\n",
       "    </tr>\n",
       "  </tbody>\n",
       "</table>\n",
       "</div>"
      ],
      "text/plain": [
       "  currency  open_price ticker  yearly_high\n",
       "0      USD      641.87   TSLA       900.40\n",
       "1      USD     2038.86   GOOG      2152.68\n",
       "2      USD      231.55   MSFT       246.13"
      ]
     },
     "execution_count": 9,
     "metadata": {},
     "output_type": "execute_result"
    }
   ],
   "source": [
    "df"
   ]
  }
 ],
 "metadata": {
  "kernelspec": {
   "display_name": "Python 3",
   "language": "python",
   "name": "python3"
  },
  "language_info": {
   "codemirror_mode": {
    "name": "ipython",
    "version": 3
   },
   "file_extension": ".py",
   "mimetype": "text/x-python",
   "name": "python",
   "nbconvert_exporter": "python",
   "pygments_lexer": "ipython3",
   "version": "3.8.5"
  }
 },
 "nbformat": 4,
 "nbformat_minor": 4
}
